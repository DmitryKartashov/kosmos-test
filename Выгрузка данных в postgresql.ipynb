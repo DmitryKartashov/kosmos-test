{
 "cells": [
  {
   "cell_type": "code",
   "execution_count": 52,
   "id": "d212e12e",
   "metadata": {},
   "outputs": [],
   "source": [
    "import numpy as np\n",
    "import pandas as pd\n",
    "import matplotlib.pyplot as plt"
   ]
  },
  {
   "cell_type": "markdown",
   "id": "9ee6c217",
   "metadata": {},
   "source": [
    "## Загрузим датасет"
   ]
  },
  {
   "cell_type": "code",
   "execution_count": 69,
   "id": "dad0a642",
   "metadata": {},
   "outputs": [],
   "source": [
    "path = r'C:\\Users\\windb\\Desktop\\для работы\\kosmos games\\TZ_GP (2).csv'\n",
    "df = pd.read_csv(path)"
   ]
  },
  {
   "cell_type": "code",
   "execution_count": 70,
   "id": "bf479191",
   "metadata": {},
   "outputs": [
    {
     "name": "stdout",
     "output_type": "stream",
     "text": [
      "<class 'pandas.core.frame.DataFrame'>\n",
      "RangeIndex: 396099 entries, 0 to 396098\n",
      "Data columns (total 7 columns):\n",
      " #   Column         Non-Null Count   Dtype \n",
      "---  ------         --------------   ----- \n",
      " 0   user_id        396099 non-null  object\n",
      " 1   media_source   396099 non-null  object\n",
      " 2   client_time    396099 non-null  object\n",
      " 3   session_index  396099 non-null  int64 \n",
      " 4   game_status    396099 non-null  object\n",
      " 5   event_name     396099 non-null  object\n",
      " 6   event_data     396099 non-null  object\n",
      "dtypes: int64(1), object(6)\n",
      "memory usage: 21.2+ MB\n"
     ]
    }
   ],
   "source": [
    "df.info()"
   ]
  },
  {
   "cell_type": "markdown",
   "id": "6e8557aa",
   "metadata": {},
   "source": [
    "## Подлкючимся к базе данных и загрузим в неё все данные.\n",
    "### в бд мне удобнее работать с данными"
   ]
  },
  {
   "cell_type": "code",
   "execution_count": 58,
   "id": "0624e695",
   "metadata": {},
   "outputs": [],
   "source": [
    "import psycopg2"
   ]
  },
  {
   "cell_type": "code",
   "execution_count": 122,
   "id": "4276e052",
   "metadata": {},
   "outputs": [],
   "source": [
    "DB_NAME = 'kosmos'\n",
    "DB_USER = 'postgres'\n",
    "DB_PASSWORD = 'admin'\n",
    "DB_HOST ='::1'\n",
    "DB_PORT = '5432'"
   ]
  },
  {
   "cell_type": "code",
   "execution_count": 130,
   "id": "b3c3aaab",
   "metadata": {},
   "outputs": [],
   "source": [
    "def add_to_db(tp):\n",
    "    sql_template = '''INSERT INTO event(user_id,media_source,\n",
    "                        client_time,\n",
    "                        session_index,\n",
    "                        game_status,\n",
    "                        event_name,\n",
    "                        event_data)\n",
    "             VALUES (\\'{}\\',\\'{}\\',\\'{}\\',{},\\'{}\\',\\'{}\\',\\'{}\\');          \n",
    "                        \n",
    "                        '''\n",
    "    \n",
    "    tp = list(tp)\n",
    "    sql = sql_template.format(tp[0],tp[1],tp[2],tp[3],tp[4],tp[5],tp[6])\n",
    "    cur.execute(sql)\n",
    "    con.commit()"
   ]
  },
  {
   "cell_type": "code",
   "execution_count": 132,
   "id": "14c3a3d8",
   "metadata": {
    "scrolled": true
   },
   "outputs": [
    {
     "data": {
      "text/plain": [
       "array([None, None, None, ..., None, None, None], dtype=object)"
      ]
     },
     "execution_count": 132,
     "metadata": {},
     "output_type": "execute_result"
    }
   ],
   "source": [
    "con = psycopg2.connect(database = DB_NAME,user = DB_USER,password = DB_PASSWORD,host = DB_HOST,port = DB_PORT)\n",
    "cur = con.cursor()\n",
    "np.apply_along_axis(add_to_db,1,df)"
   ]
  },
  {
   "cell_type": "code",
   "execution_count": null,
   "id": "aa2d495c",
   "metadata": {},
   "outputs": [],
   "source": []
  }
 ],
 "metadata": {
  "kernelspec": {
   "display_name": "Python 3",
   "language": "python",
   "name": "python3"
  },
  "language_info": {
   "codemirror_mode": {
    "name": "ipython",
    "version": 3
   },
   "file_extension": ".py",
   "mimetype": "text/x-python",
   "name": "python",
   "nbconvert_exporter": "python",
   "pygments_lexer": "ipython3",
   "version": "3.6.8"
  }
 },
 "nbformat": 4,
 "nbformat_minor": 5
}
